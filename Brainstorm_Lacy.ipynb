{
 "cells": [
  {
   "cell_type": "code",
   "execution_count": 1,
   "metadata": {},
   "outputs": [],
   "source": [
    "import pandas as pd\n",
    "import os\n",
    "import gmaps\n",
    "from pandas import ExcelWriter\n",
    "from pandas import ExcelFile\n",
    "from config import gkey\n",
    "\n",
    "import matplotlib.pyplot as plt"
   ]
  },
  {
   "cell_type": "code",
   "execution_count": null,
   "metadata": {},
   "outputs": [],
   "source": [
    "#doesn't work, main data file has multiple worksheets\n",
    "# csvpath = os.path.join(\"..\", \"member_info.csv\")\n",
    "# df1=pd.read_csv(csvpath)\n",
    "# df1.head()"
   ]
  },
  {
   "cell_type": "code",
   "execution_count": 2,
   "metadata": {},
   "outputs": [],
   "source": [
    "#import xlsx and read each worksheet as a separate df\n",
    "csvpath = os.path.join(\"..\", \"member_info.xlsx\")\n",
    "xlsx = pd.ExcelFile(csvpath)\n",
    "gup_members_df = pd.read_excel(xlsx, 'Gup Members')\n",
    "gup_tests_df = pd.read_excel(xlsx, 'Gup Tests')\n",
    "dan_members_df = pd.read_excel(xlsx, 'Dan Members')\n",
    "dan_promotion_df = pd.read_excel(xlsx, 'Dan Promotion')\n",
    "studio_df = pd.read_excel(xlsx, 'Studio')"
   ]
  },
  {
   "cell_type": "code",
   "execution_count": null,
   "metadata": {},
   "outputs": [],
   "source": [
    "dan_members_df.head()"
   ]
  },
  {
   "cell_type": "code",
   "execution_count": null,
   "metadata": {},
   "outputs": [],
   "source": [
    "#removes rows where 'Date of Birth' was NaN\n",
    "dan_members_df['Date of Birth']=pd.to_datetime(dan_members_df['Date of Birth'])\n",
    "dan2_df=dan_members_df.dropna(subset=['Date of Birth'])\n",
    "dan2_df.head()"
   ]
  },
  {
   "cell_type": "code",
   "execution_count": null,
   "metadata": {},
   "outputs": [],
   "source": [
    "#pulls year from 'Date of Birth'\n",
    "dan2_df['Birthday']=pd.DatetimeIndex(dan2_df['Date of Birth']).year\n",
    "dan2_df['Age']=2020-dan2_df['Birthday']\n",
    "dan2_df.head()"
   ]
  },
  {
   "cell_type": "code",
   "execution_count": null,
   "metadata": {
    "scrolled": true
   },
   "outputs": [],
   "source": [
    "#x-axis is birthday, y-axis is date of receiving first degree.  Want to change x axis to age\n",
    "dan2_df.plot(kind='scatter', x='Age', y='1st Degree')"
   ]
  },
  {
   "cell_type": "code",
   "execution_count": null,
   "metadata": {},
   "outputs": [],
   "source": [
    "dan2_df.plot(kind='scatter', x='Age', y='2nd Degree')"
   ]
  },
  {
   "cell_type": "code",
   "execution_count": null,
   "metadata": {},
   "outputs": [],
   "source": [
    "dan2_df.plot(kind='scatter', x='Age', y='3rd Degree')"
   ]
  },
  {
   "cell_type": "code",
   "execution_count": null,
   "metadata": {},
   "outputs": [],
   "source": [
    "dan2_df.plot(kind='scatter', x='Age', y='4th Degree')"
   ]
  },
  {
   "cell_type": "code",
   "execution_count": null,
   "metadata": {},
   "outputs": [],
   "source": [
    "#histogram of number of black belts of each age\n",
    "x=dan2_df['Age']\n",
    "plt.hist(x)\n",
    "plt.show()"
   ]
  },
  {
   "cell_type": "code",
   "execution_count": null,
   "metadata": {},
   "outputs": [],
   "source": [
    "#shows number of new black belts tested each year\n",
    "dan2_df['1st']=pd.DatetimeIndex(dan2_df['1st Degree']).year\n",
    "x=dan2_df['1st']\n",
    "plt.hist(x)\n",
    "plt.show"
   ]
  },
  {
   "cell_type": "code",
   "execution_count": null,
   "metadata": {},
   "outputs": [],
   "source": [
    "#shows number of 2nd degrees tested each year\n",
    "dan2_df['2nd']=pd.DatetimeIndex(dan2_df['2nd Degree']).year\n",
    "x=dan2_df['2nd']\n",
    "plt.hist(x)\n",
    "plt.show"
   ]
  },
  {
   "cell_type": "code",
   "execution_count": null,
   "metadata": {},
   "outputs": [],
   "source": [
    "#shows number of 3rd degrees tested each year\n",
    "dan2_df['3rd']=pd.DatetimeIndex(dan2_df['3rd Degree']).year\n",
    "x=dan2_df['3rd']\n",
    "plt.hist(x)\n",
    "plt.show"
   ]
  },
  {
   "cell_type": "code",
   "execution_count": null,
   "metadata": {},
   "outputs": [],
   "source": [
    "#shows number of 4th degrees tested each year\n",
    "dan2_df['4th']=pd.DatetimeIndex(dan2_df['4th Degree']).year\n",
    "x=dan2_df['4th']\n",
    "plt.hist(x)\n",
    "plt.show"
   ]
  },
  {
   "cell_type": "markdown",
   "metadata": {},
   "source": [
    "Look at geographical trends\n",
    "1. black belts per country\n",
    "2. blacks per zip code\n",
    "3. distribution by gender?"
   ]
  },
  {
   "cell_type": "code",
   "execution_count": 3,
   "metadata": {},
   "outputs": [
    {
     "data": {
      "text/html": [
       "<div>\n",
       "<style scoped>\n",
       "    .dataframe tbody tr th:only-of-type {\n",
       "        vertical-align: middle;\n",
       "    }\n",
       "\n",
       "    .dataframe tbody tr th {\n",
       "        vertical-align: top;\n",
       "    }\n",
       "\n",
       "    .dataframe thead th {\n",
       "        text-align: right;\n",
       "    }\n",
       "</style>\n",
       "<table border=\"1\" class=\"dataframe\">\n",
       "  <thead>\n",
       "    <tr style=\"text-align: right;\">\n",
       "      <th></th>\n",
       "      <th>ID</th>\n",
       "      <th>Region_x</th>\n",
       "      <th>Date of Birth</th>\n",
       "      <th>Expiration Date</th>\n",
       "      <th>Zip Code_x</th>\n",
       "      <th>Dan Level</th>\n",
       "      <th>Studio</th>\n",
       "      <th>1st Degree</th>\n",
       "      <th>2nd Degree</th>\n",
       "      <th>3rd Degree</th>\n",
       "      <th>4th Degree</th>\n",
       "      <th>4th Master</th>\n",
       "      <th>Region_y</th>\n",
       "      <th>Studio/Club</th>\n",
       "      <th>Zip Code_y</th>\n",
       "      <th>Country</th>\n",
       "    </tr>\n",
       "  </thead>\n",
       "  <tbody>\n",
       "    <tr>\n",
       "      <th>0</th>\n",
       "      <td>D02592</td>\n",
       "      <td>8.0</td>\n",
       "      <td>1989-06-25</td>\n",
       "      <td>2001-12-31 00:00:00</td>\n",
       "      <td>16686</td>\n",
       "      <td>1</td>\n",
       "      <td>S1644</td>\n",
       "      <td>2001-12-01</td>\n",
       "      <td>NaT</td>\n",
       "      <td>NaT</td>\n",
       "      <td>NaT</td>\n",
       "      <td>NaT</td>\n",
       "      <td>8.0</td>\n",
       "      <td>S1644</td>\n",
       "      <td>16686</td>\n",
       "      <td>USA</td>\n",
       "    </tr>\n",
       "    <tr>\n",
       "      <th>1</th>\n",
       "      <td>D02591</td>\n",
       "      <td>8.0</td>\n",
       "      <td>1988-07-28</td>\n",
       "      <td>2001-12-31 00:00:00</td>\n",
       "      <td>16866</td>\n",
       "      <td>1</td>\n",
       "      <td>S1644</td>\n",
       "      <td>2000-12-01</td>\n",
       "      <td>NaT</td>\n",
       "      <td>NaT</td>\n",
       "      <td>NaT</td>\n",
       "      <td>NaT</td>\n",
       "      <td>8.0</td>\n",
       "      <td>S1644</td>\n",
       "      <td>16686</td>\n",
       "      <td>USA</td>\n",
       "    </tr>\n",
       "    <tr>\n",
       "      <th>2</th>\n",
       "      <td>D02118</td>\n",
       "      <td>8.0</td>\n",
       "      <td>1985-01-12</td>\n",
       "      <td>2001-12-31 00:00:00</td>\n",
       "      <td>16602</td>\n",
       "      <td>1</td>\n",
       "      <td>S1644</td>\n",
       "      <td>1999-12-01</td>\n",
       "      <td>NaT</td>\n",
       "      <td>NaT</td>\n",
       "      <td>NaT</td>\n",
       "      <td>NaT</td>\n",
       "      <td>8.0</td>\n",
       "      <td>S1644</td>\n",
       "      <td>16686</td>\n",
       "      <td>USA</td>\n",
       "    </tr>\n",
       "    <tr>\n",
       "      <th>3</th>\n",
       "      <td>D02123</td>\n",
       "      <td>8.0</td>\n",
       "      <td>1988-03-19</td>\n",
       "      <td>2001-12-31 00:00:00</td>\n",
       "      <td>16602</td>\n",
       "      <td>1</td>\n",
       "      <td>S1644</td>\n",
       "      <td>1999-12-01</td>\n",
       "      <td>NaT</td>\n",
       "      <td>NaT</td>\n",
       "      <td>NaT</td>\n",
       "      <td>NaT</td>\n",
       "      <td>8.0</td>\n",
       "      <td>S1644</td>\n",
       "      <td>16686</td>\n",
       "      <td>USA</td>\n",
       "    </tr>\n",
       "    <tr>\n",
       "      <th>4</th>\n",
       "      <td>D00984</td>\n",
       "      <td>8.0</td>\n",
       "      <td>1981-06-01</td>\n",
       "      <td>2001-12-31 00:00:00</td>\n",
       "      <td>16601-0000</td>\n",
       "      <td>1</td>\n",
       "      <td>S1644</td>\n",
       "      <td>1995-12-01</td>\n",
       "      <td>NaT</td>\n",
       "      <td>NaT</td>\n",
       "      <td>NaT</td>\n",
       "      <td>NaT</td>\n",
       "      <td>8.0</td>\n",
       "      <td>S1644</td>\n",
       "      <td>16686</td>\n",
       "      <td>USA</td>\n",
       "    </tr>\n",
       "  </tbody>\n",
       "</table>\n",
       "</div>"
      ],
      "text/plain": [
       "       ID  Region_x Date of Birth      Expiration Date  Zip Code_x Dan Level  \\\n",
       "0  D02592       8.0    1989-06-25  2001-12-31 00:00:00       16686         1   \n",
       "1  D02591       8.0    1988-07-28  2001-12-31 00:00:00       16866         1   \n",
       "2  D02118       8.0    1985-01-12  2001-12-31 00:00:00       16602         1   \n",
       "3  D02123       8.0    1988-03-19  2001-12-31 00:00:00       16602         1   \n",
       "4  D00984       8.0    1981-06-01  2001-12-31 00:00:00  16601-0000         1   \n",
       "\n",
       "  Studio 1st Degree 2nd Degree 3rd Degree 4th Degree 4th Master  Region_y  \\\n",
       "0  S1644 2001-12-01        NaT        NaT        NaT        NaT       8.0   \n",
       "1  S1644 2000-12-01        NaT        NaT        NaT        NaT       8.0   \n",
       "2  S1644 1999-12-01        NaT        NaT        NaT        NaT       8.0   \n",
       "3  S1644 1999-12-01        NaT        NaT        NaT        NaT       8.0   \n",
       "4  S1644 1995-12-01        NaT        NaT        NaT        NaT       8.0   \n",
       "\n",
       "  Studio/Club Zip Code_y Country  \n",
       "0       S1644      16686     USA  \n",
       "1       S1644      16686     USA  \n",
       "2       S1644      16686     USA  \n",
       "3       S1644      16686     USA  \n",
       "4       S1644      16686     USA  "
      ]
     },
     "execution_count": 3,
     "metadata": {},
     "output_type": "execute_result"
    }
   ],
   "source": [
    "#black belts per country\n",
    "dan_studio_merge=pd.merge(dan_members_df,studio_df, on='Studio')\n",
    "dan_studio_merge.head()"
   ]
  },
  {
   "cell_type": "code",
   "execution_count": null,
   "metadata": {},
   "outputs": [],
   "source": [
    "# Configure gmaps\n",
    "gmaps.configure(api_key=gkey)\n",
    "\n"
   ]
  },
  {
   "cell_type": "code",
   "execution_count": null,
   "metadata": {},
   "outputs": [],
   "source": []
  }
 ],
 "metadata": {
  "kernelspec": {
   "display_name": "Python 3",
   "language": "python",
   "name": "python3"
  },
  "language_info": {
   "codemirror_mode": {
    "name": "ipython",
    "version": 3
   },
   "file_extension": ".py",
   "mimetype": "text/x-python",
   "name": "python",
   "nbconvert_exporter": "python",
   "pygments_lexer": "ipython3",
   "version": "3.7.2"
  }
 },
 "nbformat": 4,
 "nbformat_minor": 2
}
