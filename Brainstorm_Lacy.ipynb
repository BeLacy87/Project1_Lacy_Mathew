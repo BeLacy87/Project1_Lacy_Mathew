{
 "cells": [
  {
   "cell_type": "code",
   "execution_count": 16,
   "metadata": {},
   "outputs": [],
   "source": [
    "import pandas as pd\n",
    "import os\n",
    "from pandas import ExcelWriter\n",
    "from pandas import ExcelFile\n",
    "\n",
    "import matplotlib.pyplot as plt"
   ]
  },
  {
   "cell_type": "code",
   "execution_count": null,
   "metadata": {},
   "outputs": [],
   "source": [
    "#doesn't work, main data file has multiple worksheets\n",
    "# csvpath = os.path.join(\"..\", \"member_info.csv\")\n",
    "# df1=pd.read_csv(csvpath)\n",
    "# df1.head()"
   ]
  },
  {
   "cell_type": "code",
   "execution_count": 2,
   "metadata": {},
   "outputs": [],
   "source": [
    "#import xlsx and read each worksheet as a separate df\n",
    "csvpath = os.path.join(\"..\", \"member_info.xlsx\")\n",
    "xlsx = pd.ExcelFile(csvpath)\n",
    "gup_members_df = pd.read_excel(xlsx, 'Gup Members')\n",
    "gup_tests_df = pd.read_excel(xlsx, 'Gup Tests')\n",
    "dan_members_df = pd.read_excel(xlsx, 'Dan Members')\n",
    "dan_promotion_df = pd.read_excel(xlsx, 'Dan Promotion')\n",
    "studio_df = pd.read_excel(xlsx, 'Studio')"
   ]
  },
  {
   "cell_type": "code",
   "execution_count": null,
   "metadata": {},
   "outputs": [],
   "source": [
    "dan_members_df.head()"
   ]
  },
  {
   "cell_type": "code",
   "execution_count": 3,
   "metadata": {},
   "outputs": [
    {
     "data": {
      "text/html": [
       "<div>\n",
       "<style scoped>\n",
       "    .dataframe tbody tr th:only-of-type {\n",
       "        vertical-align: middle;\n",
       "    }\n",
       "\n",
       "    .dataframe tbody tr th {\n",
       "        vertical-align: top;\n",
       "    }\n",
       "\n",
       "    .dataframe thead th {\n",
       "        text-align: right;\n",
       "    }\n",
       "</style>\n",
       "<table border=\"1\" class=\"dataframe\">\n",
       "  <thead>\n",
       "    <tr style=\"text-align: right;\">\n",
       "      <th></th>\n",
       "      <th>ID</th>\n",
       "      <th>Region</th>\n",
       "      <th>Date of Birth</th>\n",
       "      <th>Expiration Date</th>\n",
       "      <th>Zip Code</th>\n",
       "      <th>Dan Level</th>\n",
       "      <th>Studio</th>\n",
       "      <th>1st Degree</th>\n",
       "      <th>2nd Degree</th>\n",
       "      <th>3rd Degree</th>\n",
       "      <th>4th Degree</th>\n",
       "      <th>4th Master</th>\n",
       "    </tr>\n",
       "  </thead>\n",
       "  <tbody>\n",
       "    <tr>\n",
       "      <th>19</th>\n",
       "      <td>D00327</td>\n",
       "      <td>3.0</td>\n",
       "      <td>1900-01-01</td>\n",
       "      <td>2003-12-31 00:00:00</td>\n",
       "      <td>52002-0000</td>\n",
       "      <td>2</td>\n",
       "      <td>Inactive School</td>\n",
       "      <td>NaT</td>\n",
       "      <td>1990-12-01</td>\n",
       "      <td>NaT</td>\n",
       "      <td>NaT</td>\n",
       "      <td>NaT</td>\n",
       "    </tr>\n",
       "    <tr>\n",
       "      <th>20</th>\n",
       "      <td>D00642</td>\n",
       "      <td>1.0</td>\n",
       "      <td>1900-01-01</td>\n",
       "      <td>2004-12-31 00:00:00</td>\n",
       "      <td>98527</td>\n",
       "      <td>2</td>\n",
       "      <td>Inactive School</td>\n",
       "      <td>1992-12-01</td>\n",
       "      <td>1996-12-01</td>\n",
       "      <td>NaT</td>\n",
       "      <td>NaT</td>\n",
       "      <td>NaT</td>\n",
       "    </tr>\n",
       "    <tr>\n",
       "      <th>21</th>\n",
       "      <td>D04531</td>\n",
       "      <td>8.0</td>\n",
       "      <td>1900-01-01</td>\n",
       "      <td>2007-12-31 00:00:00</td>\n",
       "      <td>16823</td>\n",
       "      <td>1</td>\n",
       "      <td>S1242</td>\n",
       "      <td>2004-07-01</td>\n",
       "      <td>NaT</td>\n",
       "      <td>NaT</td>\n",
       "      <td>NaT</td>\n",
       "      <td>NaT</td>\n",
       "    </tr>\n",
       "    <tr>\n",
       "      <th>22</th>\n",
       "      <td>D07679</td>\n",
       "      <td>8.0</td>\n",
       "      <td>1900-01-01</td>\n",
       "      <td>2011-12-31 00:00:00</td>\n",
       "      <td>19348</td>\n",
       "      <td>1</td>\n",
       "      <td>S1902</td>\n",
       "      <td>2009-07-01</td>\n",
       "      <td>NaT</td>\n",
       "      <td>NaT</td>\n",
       "      <td>NaT</td>\n",
       "      <td>NaT</td>\n",
       "    </tr>\n",
       "    <tr>\n",
       "      <th>23</th>\n",
       "      <td>D10517</td>\n",
       "      <td>14.0</td>\n",
       "      <td>1900-01-01</td>\n",
       "      <td>2016-12-31 00:00:00</td>\n",
       "      <td>NaN</td>\n",
       "      <td>1</td>\n",
       "      <td>Inactive School</td>\n",
       "      <td>2013-12-01</td>\n",
       "      <td>NaT</td>\n",
       "      <td>NaT</td>\n",
       "      <td>NaT</td>\n",
       "      <td>NaT</td>\n",
       "    </tr>\n",
       "  </tbody>\n",
       "</table>\n",
       "</div>"
      ],
      "text/plain": [
       "        ID  Region Date of Birth      Expiration Date    Zip Code Dan Level  \\\n",
       "19  D00327     3.0    1900-01-01  2003-12-31 00:00:00  52002-0000         2   \n",
       "20  D00642     1.0    1900-01-01  2004-12-31 00:00:00       98527         2   \n",
       "21  D04531     8.0    1900-01-01  2007-12-31 00:00:00       16823         1   \n",
       "22  D07679     8.0    1900-01-01  2011-12-31 00:00:00       19348         1   \n",
       "23  D10517    14.0    1900-01-01  2016-12-31 00:00:00         NaN         1   \n",
       "\n",
       "             Studio 1st Degree 2nd Degree 3rd Degree 4th Degree 4th Master  \n",
       "19  Inactive School        NaT 1990-12-01        NaT        NaT        NaT  \n",
       "20  Inactive School 1992-12-01 1996-12-01        NaT        NaT        NaT  \n",
       "21            S1242 2004-07-01        NaT        NaT        NaT        NaT  \n",
       "22            S1902 2009-07-01        NaT        NaT        NaT        NaT  \n",
       "23  Inactive School 2013-12-01        NaT        NaT        NaT        NaT  "
      ]
     },
     "execution_count": 3,
     "metadata": {},
     "output_type": "execute_result"
    }
   ],
   "source": [
    "#removes rows where 'Date of Birth' was NaN\n",
    "dan_members_df['Date of Birth']=pd.to_datetime(dan_members_df['Date of Birth'])\n",
    "dan2_df=dan_members_df.dropna(subset=['Date of Birth'])\n",
    "dan2_df.head()\n"
   ]
  },
  {
   "cell_type": "code",
   "execution_count": 9,
   "metadata": {},
   "outputs": [
    {
     "name": "stderr",
     "output_type": "stream",
     "text": [
      "c:\\users\\belac\\appdata\\local\\programs\\python\\python37-32\\lib\\site-packages\\ipykernel_launcher.py:1: SettingWithCopyWarning: \n",
      "A value is trying to be set on a copy of a slice from a DataFrame.\n",
      "Try using .loc[row_indexer,col_indexer] = value instead\n",
      "\n",
      "See the caveats in the documentation: https://pandas.pydata.org/pandas-docs/stable/user_guide/indexing.html#returning-a-view-versus-a-copy\n",
      "  \"\"\"Entry point for launching an IPython kernel.\n"
     ]
    },
    {
     "data": {
      "text/html": [
       "<div>\n",
       "<style scoped>\n",
       "    .dataframe tbody tr th:only-of-type {\n",
       "        vertical-align: middle;\n",
       "    }\n",
       "\n",
       "    .dataframe tbody tr th {\n",
       "        vertical-align: top;\n",
       "    }\n",
       "\n",
       "    .dataframe thead th {\n",
       "        text-align: right;\n",
       "    }\n",
       "</style>\n",
       "<table border=\"1\" class=\"dataframe\">\n",
       "  <thead>\n",
       "    <tr style=\"text-align: right;\">\n",
       "      <th></th>\n",
       "      <th>ID</th>\n",
       "      <th>Region</th>\n",
       "      <th>Date of Birth</th>\n",
       "      <th>Expiration Date</th>\n",
       "      <th>Zip Code</th>\n",
       "      <th>Dan Level</th>\n",
       "      <th>Studio</th>\n",
       "      <th>1st Degree</th>\n",
       "      <th>2nd Degree</th>\n",
       "      <th>3rd Degree</th>\n",
       "      <th>4th Degree</th>\n",
       "      <th>4th Master</th>\n",
       "      <th>Birthday</th>\n",
       "    </tr>\n",
       "  </thead>\n",
       "  <tbody>\n",
       "    <tr>\n",
       "      <th>19</th>\n",
       "      <td>D00327</td>\n",
       "      <td>3.0</td>\n",
       "      <td>1900-01-01</td>\n",
       "      <td>2003-12-31 00:00:00</td>\n",
       "      <td>52002-0000</td>\n",
       "      <td>2</td>\n",
       "      <td>Inactive School</td>\n",
       "      <td>NaT</td>\n",
       "      <td>1990-12-01</td>\n",
       "      <td>NaT</td>\n",
       "      <td>NaT</td>\n",
       "      <td>NaT</td>\n",
       "      <td>1900</td>\n",
       "    </tr>\n",
       "    <tr>\n",
       "      <th>20</th>\n",
       "      <td>D00642</td>\n",
       "      <td>1.0</td>\n",
       "      <td>1900-01-01</td>\n",
       "      <td>2004-12-31 00:00:00</td>\n",
       "      <td>98527</td>\n",
       "      <td>2</td>\n",
       "      <td>Inactive School</td>\n",
       "      <td>1992-12-01</td>\n",
       "      <td>1996-12-01</td>\n",
       "      <td>NaT</td>\n",
       "      <td>NaT</td>\n",
       "      <td>NaT</td>\n",
       "      <td>1900</td>\n",
       "    </tr>\n",
       "    <tr>\n",
       "      <th>21</th>\n",
       "      <td>D04531</td>\n",
       "      <td>8.0</td>\n",
       "      <td>1900-01-01</td>\n",
       "      <td>2007-12-31 00:00:00</td>\n",
       "      <td>16823</td>\n",
       "      <td>1</td>\n",
       "      <td>S1242</td>\n",
       "      <td>2004-07-01</td>\n",
       "      <td>NaT</td>\n",
       "      <td>NaT</td>\n",
       "      <td>NaT</td>\n",
       "      <td>NaT</td>\n",
       "      <td>1900</td>\n",
       "    </tr>\n",
       "    <tr>\n",
       "      <th>22</th>\n",
       "      <td>D07679</td>\n",
       "      <td>8.0</td>\n",
       "      <td>1900-01-01</td>\n",
       "      <td>2011-12-31 00:00:00</td>\n",
       "      <td>19348</td>\n",
       "      <td>1</td>\n",
       "      <td>S1902</td>\n",
       "      <td>2009-07-01</td>\n",
       "      <td>NaT</td>\n",
       "      <td>NaT</td>\n",
       "      <td>NaT</td>\n",
       "      <td>NaT</td>\n",
       "      <td>1900</td>\n",
       "    </tr>\n",
       "    <tr>\n",
       "      <th>23</th>\n",
       "      <td>D10517</td>\n",
       "      <td>14.0</td>\n",
       "      <td>1900-01-01</td>\n",
       "      <td>2016-12-31 00:00:00</td>\n",
       "      <td>NaN</td>\n",
       "      <td>1</td>\n",
       "      <td>Inactive School</td>\n",
       "      <td>2013-12-01</td>\n",
       "      <td>NaT</td>\n",
       "      <td>NaT</td>\n",
       "      <td>NaT</td>\n",
       "      <td>NaT</td>\n",
       "      <td>1900</td>\n",
       "    </tr>\n",
       "  </tbody>\n",
       "</table>\n",
       "</div>"
      ],
      "text/plain": [
       "        ID  Region Date of Birth      Expiration Date    Zip Code Dan Level  \\\n",
       "19  D00327     3.0    1900-01-01  2003-12-31 00:00:00  52002-0000         2   \n",
       "20  D00642     1.0    1900-01-01  2004-12-31 00:00:00       98527         2   \n",
       "21  D04531     8.0    1900-01-01  2007-12-31 00:00:00       16823         1   \n",
       "22  D07679     8.0    1900-01-01  2011-12-31 00:00:00       19348         1   \n",
       "23  D10517    14.0    1900-01-01  2016-12-31 00:00:00         NaN         1   \n",
       "\n",
       "             Studio 1st Degree 2nd Degree 3rd Degree 4th Degree 4th Master  \\\n",
       "19  Inactive School        NaT 1990-12-01        NaT        NaT        NaT   \n",
       "20  Inactive School 1992-12-01 1996-12-01        NaT        NaT        NaT   \n",
       "21            S1242 2004-07-01        NaT        NaT        NaT        NaT   \n",
       "22            S1902 2009-07-01        NaT        NaT        NaT        NaT   \n",
       "23  Inactive School 2013-12-01        NaT        NaT        NaT        NaT   \n",
       "\n",
       "    Birthday  \n",
       "19      1900  \n",
       "20      1900  \n",
       "21      1900  \n",
       "22      1900  \n",
       "23      1900  "
      ]
     },
     "execution_count": 9,
     "metadata": {},
     "output_type": "execute_result"
    }
   ],
   "source": [
    "#pulls year from 'Date of Birth'\n",
    "dan2_df['Birthday']=pd.DatetimeIndex(dan2_df['Date of Birth']).year\n",
    "dan2_df.head()"
   ]
  },
  {
   "cell_type": "code",
   "execution_count": 12,
   "metadata": {},
   "outputs": [
    {
     "data": {
      "text/plain": [
       "<matplotlib.axes._subplots.AxesSubplot at 0x1028ab0>"
      ]
     },
     "execution_count": 12,
     "metadata": {},
     "output_type": "execute_result"
    },
    {
     "data": {
      "image/png": "[encoded data removed]",
      "text/plain": [
       "<Figure size 432x288 with 1 Axes>"
      ]
     },
     "metadata": {
      "needs_background": "light"
     },
     "output_type": "display_data"
    }
   ],
   "source": [
    "#x-axis is birthday, y-axis is date of receiving first degree.  Want to change x axis to age\n",
    "dan2_df.plot(kind='scatter', x='Birthday', y='1st Degree')"
   ]
  },
  {
   "cell_type": "code",
   "execution_count": 19,
   "metadata": {},
   "outputs": [
    {
     "data": {
      "image/png": "[encoded data removed]",
      "text/plain": [
       "<Figure size 432x288 with 1 Axes>"
      ]
     },
     "metadata": {
      "needs_background": "light"
     },
     "output_type": "display_data"
    }
   ],
   "source": [
    "#histogram of number of black belts born in each year\n",
    "x=dan2_df['Birthday']\n",
    "plt.hist(x)\n",
    "plt.show()"
   ]
  },
  {
   "cell_type": "code",
   "execution_count": 27,
   "metadata": {},
   "outputs": [
    {
     "name": "stderr",
     "output_type": "stream",
     "text": [
      "c:\\users\\belac\\appdata\\local\\programs\\python\\python37-32\\lib\\site-packages\\ipykernel_launcher.py:1: SettingWithCopyWarning: \n",
      "A value is trying to be set on a copy of a slice from a DataFrame.\n",
      "Try using .loc[row_indexer,col_indexer] = value instead\n",
      "\n",
      "See the caveats in the documentation: https://pandas.pydata.org/pandas-docs/stable/user_guide/indexing.html#returning-a-view-versus-a-copy\n",
      "  \"\"\"Entry point for launching an IPython kernel.\n",
      "c:\\users\\belac\\appdata\\local\\programs\\python\\python37-32\\lib\\site-packages\\numpy\\lib\\histograms.py:839: RuntimeWarning: invalid value encountered in greater_equal\n",
      "  keep = (tmp_a >= first_edge)\n",
      "c:\\users\\belac\\appdata\\local\\programs\\python\\python37-32\\lib\\site-packages\\numpy\\lib\\histograms.py:840: RuntimeWarning: invalid value encountered in less_equal\n",
      "  keep &= (tmp_a <= last_edge)\n"
     ]
    },
    {
     "data": {
      "text/plain": [
       "<function matplotlib.pyplot.show(*args, **kw)>"
      ]
     },
     "execution_count": 27,
     "metadata": {},
     "output_type": "execute_result"
    },
    {
     "data": {
      "image/png": "[encoded data removed]",
      "text/plain": [
       "<Figure size 432x288 with 1 Axes>"
      ]
     },
     "metadata": {
      "needs_background": "light"
     },
     "output_type": "display_data"
    }
   ],
   "source": [
    "#shows number of new black belts tested each year\n",
    "dan2_df['1st']=pd.DatetimeIndex(dan2_df['1st Degree']).year\n",
    "x=dan2_df['1st']\n",
    "plt.hist(x)\n",
    "plt.show"
   ]
  },
  {
   "cell_type": "code",
   "execution_count": null,
   "metadata": {},
   "outputs": [],
   "source": []
  }
 ],
 "metadata": {
  "kernelspec": {
   "display_name": "Python 3",
   "language": "python",
   "name": "python3"
  },
  "language_info": {
   "codemirror_mode": {
    "name": "ipython",
    "version": 3
   },
   "file_extension": ".py",
   "mimetype": "text/x-python",
   "name": "python",
   "nbconvert_exporter": "python",
   "pygments_lexer": "ipython3",
   "version": "3.7.2"
  }
 },
 "nbformat": 4,
 "nbformat_minor": 2
}
